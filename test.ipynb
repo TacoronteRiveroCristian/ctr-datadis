{
 "cells": [
  {
   "cell_type": "code",
   "execution_count": 1,
   "id": "a9baa414",
   "metadata": {},
   "outputs": [
    {
     "name": "stderr",
     "output_type": "stream",
     "text": [
      "/home/cristiantr/.cache/pypoetry/virtualenvs/datadis-python-ONeCC6i2-py3.10/lib/python3.10/site-packages/pydantic/_internal/_config.py:345: UserWarning: Valid config keys have changed in V2:\n",
      "* 'allow_population_by_field_name' has been renamed to 'populate_by_name'\n",
      "  warnings.warn(message, UserWarning)\n"
     ]
    },
    {
     "data": {
      "text/plain": [
       "True"
      ]
     },
     "execution_count": 1,
     "metadata": {},
     "output_type": "execute_result"
    }
   ],
   "source": [
    "import os\n",
    "from dotenv import load_dotenv\n",
    "from datadis_python.client.v2.client import DatadisClientV2\n",
    "from datadis_python.client.v1.client import DatadisClientV1\n",
    "\n",
    "# Cargar variables de entorno desde el archivo .env\n",
    "load_dotenv()"
   ]
  },
  {
   "cell_type": "code",
   "execution_count": 2,
   "id": "7ffa71a7",
   "metadata": {},
   "outputs": [],
   "source": [
    "USERNAME = os.getenv(\"DATADIS_CIF\")\n",
    "PASSWORD = os.getenv(\"DATADIS_PASSWORD\")\n",
    "\n",
    "if USERNAME is None or PASSWORD is None:\n",
    "    raise ValueError(\"Las variables de entorno DATADIS_USERNAME y DATADIS_PASSWORD no estan definidas.\")"
   ]
  },
  {
   "cell_type": "code",
   "execution_count": 3,
   "id": "5e3a3746",
   "metadata": {},
   "outputs": [],
   "source": [
    "client = DatadisClientV2(username=USERNAME, password=PASSWORD)"
   ]
  },
  {
   "cell_type": "code",
   "execution_count": 4,
   "id": "3b3b1b16",
   "metadata": {},
   "outputs": [
    {
     "data": {
      "text/plain": [
       "[SupplyData(address='CAMINO DEL HIERRO 2', cups='ES0031607515707001RC0F', postal_code='38009', province='Santa Cruz de Tenerife', municipality='SANTA CRUZ DE TENERIFE', distributor='EDISTRIBUCIÃ\\x93N', valid_date_from='2024/11/01', valid_date_to='', point_type=3, distributor_code='2'),\n",
       " SupplyData(address='CEBRIAN 3', cups='ES0031607495168002EK0F', postal_code='35003', province='Las Palmas', municipality='PALMAS DE GRAN CANARIA, LAS', distributor='EDISTRIBUCIÃ\\x93N', valid_date_from='2024/11/01', valid_date_to='', point_type=3, distributor_code='2'),\n",
       " SupplyData(address='CEBRIAN 3', cups='ES0031607495168001EC0F', postal_code='35003', province='Las Palmas', municipality='PALMAS DE GRAN CANARIA, LAS', distributor='EDISTRIBUCIÃ\\x93N', valid_date_from='2024/11/01', valid_date_to='', point_type=5, distributor_code='2'),\n",
       " SupplyData(address='CEBRIAN 3', cups='ES0031601360306001PX0F', postal_code='35003', province='Las Palmas', municipality='PALMAS DE GRAN CANARIA, LAS', distributor='EDISTRIBUCIÃ\\x93N', valid_date_from='2025/07/23', valid_date_to='', point_type=5, distributor_code='2'),\n",
       " SupplyData(address='EL PILAR 2', cups='ES0031601359854001KY0F', postal_code='38700', province='Santa Cruz de Tenerife', municipality='SANTA CRUZ DE LA PALMA', distributor='EDISTRIBUCIÃ\\x93N', valid_date_from='2025/08/26', valid_date_to='', point_type=5, distributor_code='2'),\n",
       " SupplyData(address='CEBRIAN 3', cups='ES0031601359499001LB0F', postal_code='38004', province='Santa Cruz de Tenerife', municipality='SANTA CRUZ DE TENERIFE', distributor='EDISTRIBUCIÃ\\x93N', valid_date_from='2025/08/28', valid_date_to='', point_type=5, distributor_code='2'),\n",
       " SupplyData(address='TIGUERORTE   MOT', cups='ES0031601105278001LN0F', postal_code='38730', province='Santa Cruz de Tenerife', municipality='VILLA DE MAZO', distributor='EDISTRIBUCIÃ\\x93N', valid_date_from='2024/11/01', valid_date_to='', point_type=2, distributor_code='2'),\n",
       " SupplyData(address='PUNTA TENEFE 0', cups='ES0031601011756005SH0F', postal_code='35119', province='Las Palmas', municipality='SANTA LUCÃ\\x8dA DE TIRAJANA', distributor='EDISTRIBUCIÃ\\x93N', valid_date_from='2024/12/11', valid_date_to='', point_type=2, distributor_code='2'),\n",
       " SupplyData(address='PUNTA TENEFE', cups='ES0031601011756001SZ0F', postal_code='35119', province='Las Palmas', municipality='SANTA LUCÃ\\x8dA DE TIRAJANA', distributor='EDISTRIBUCIÃ\\x93N', valid_date_from='2024/11/01', valid_date_to='', point_type=2, distributor_code='2')]"
      ]
     },
     "execution_count": 4,
     "metadata": {},
     "output_type": "execute_result"
    }
   ],
   "source": [
    "supplies = client.get_supplies()\n",
    "supplies"
   ]
  },
  {
   "cell_type": "code",
   "execution_count": 5,
   "id": "aae2c783",
   "metadata": {},
   "outputs": [],
   "source": [
    "client = DatadisClientV1(username=USERNAME, password=PASSWORD)"
   ]
  },
  {
   "cell_type": "code",
   "execution_count": 6,
   "id": "17143b74",
   "metadata": {},
   "outputs": [
    {
     "data": {
      "text/plain": [
       "[{'address': 'CAMINO DEL HIERRO 2',\n",
       "  'cups': 'ES0031607515707001RC0F',\n",
       "  'postalCode': '38009',\n",
       "  'province': 'Santa Cruz de Tenerife',\n",
       "  'municipality': 'SANTA CRUZ DE TENERIFE',\n",
       "  'distributor': 'EDISTRIBUCIÃ\\x93N',\n",
       "  'validDateFrom': '2024/11/01',\n",
       "  'validDateTo': '',\n",
       "  'pointType': 3,\n",
       "  'distributorCode': '2'},\n",
       " {'address': 'CEBRIAN 3',\n",
       "  'cups': 'ES0031607495168002EK0F',\n",
       "  'postalCode': '35003',\n",
       "  'province': 'Las Palmas',\n",
       "  'municipality': 'PALMAS DE GRAN CANARIA, LAS',\n",
       "  'distributor': 'EDISTRIBUCIÃ\\x93N',\n",
       "  'validDateFrom': '2024/11/01',\n",
       "  'validDateTo': '',\n",
       "  'pointType': 3,\n",
       "  'distributorCode': '2'},\n",
       " {'address': 'CEBRIAN 3',\n",
       "  'cups': 'ES0031607495168001EC0F',\n",
       "  'postalCode': '35003',\n",
       "  'province': 'Las Palmas',\n",
       "  'municipality': 'PALMAS DE GRAN CANARIA, LAS',\n",
       "  'distributor': 'EDISTRIBUCIÃ\\x93N',\n",
       "  'validDateFrom': '2024/11/01',\n",
       "  'validDateTo': '',\n",
       "  'pointType': 5,\n",
       "  'distributorCode': '2'},\n",
       " {'address': 'CEBRIAN 3',\n",
       "  'cups': 'ES0031601360306001PX0F',\n",
       "  'postalCode': '35003',\n",
       "  'province': 'Las Palmas',\n",
       "  'municipality': 'PALMAS DE GRAN CANARIA, LAS',\n",
       "  'distributor': 'EDISTRIBUCIÃ\\x93N',\n",
       "  'validDateFrom': '2025/07/23',\n",
       "  'validDateTo': '',\n",
       "  'pointType': 5,\n",
       "  'distributorCode': '2'},\n",
       " {'address': 'EL PILAR 2',\n",
       "  'cups': 'ES0031601359854001KY0F',\n",
       "  'postalCode': '38700',\n",
       "  'province': 'Santa Cruz de Tenerife',\n",
       "  'municipality': 'SANTA CRUZ DE LA PALMA',\n",
       "  'distributor': 'EDISTRIBUCIÃ\\x93N',\n",
       "  'validDateFrom': '2025/08/26',\n",
       "  'validDateTo': '',\n",
       "  'pointType': 5,\n",
       "  'distributorCode': '2'},\n",
       " {'address': 'CEBRIAN 3',\n",
       "  'cups': 'ES0031601359499001LB0F',\n",
       "  'postalCode': '38004',\n",
       "  'province': 'Santa Cruz de Tenerife',\n",
       "  'municipality': 'SANTA CRUZ DE TENERIFE',\n",
       "  'distributor': 'EDISTRIBUCIÃ\\x93N',\n",
       "  'validDateFrom': '2025/08/28',\n",
       "  'validDateTo': '',\n",
       "  'pointType': 5,\n",
       "  'distributorCode': '2'},\n",
       " {'address': 'TIGUERORTE   MOT',\n",
       "  'cups': 'ES0031601105278001LN0F',\n",
       "  'postalCode': '38730',\n",
       "  'province': 'Santa Cruz de Tenerife',\n",
       "  'municipality': 'VILLA DE MAZO',\n",
       "  'distributor': 'EDISTRIBUCIÃ\\x93N',\n",
       "  'validDateFrom': '2024/11/01',\n",
       "  'validDateTo': '',\n",
       "  'pointType': 2,\n",
       "  'distributorCode': '2'},\n",
       " {'address': 'PUNTA TENEFE 0',\n",
       "  'cups': 'ES0031601011756005SH0F',\n",
       "  'postalCode': '35119',\n",
       "  'province': 'Las Palmas',\n",
       "  'municipality': 'SANTA LUCÃ\\x8dA DE TIRAJANA',\n",
       "  'distributor': 'EDISTRIBUCIÃ\\x93N',\n",
       "  'validDateFrom': '2024/12/11',\n",
       "  'validDateTo': '',\n",
       "  'pointType': 2,\n",
       "  'distributorCode': '2'},\n",
       " {'address': 'PUNTA TENEFE',\n",
       "  'cups': 'ES0031601011756001SZ0F',\n",
       "  'postalCode': '35119',\n",
       "  'province': 'Las Palmas',\n",
       "  'municipality': 'SANTA LUCÃ\\x8dA DE TIRAJANA',\n",
       "  'distributor': 'EDISTRIBUCIÃ\\x93N',\n",
       "  'validDateFrom': '2024/11/01',\n",
       "  'validDateTo': '',\n",
       "  'pointType': 2,\n",
       "  'distributorCode': '2'}]"
      ]
     },
     "execution_count": 6,
     "metadata": {},
     "output_type": "execute_result"
    }
   ],
   "source": [
    "supplies = client.get_supplies()\n",
    "supplies"
   ]
  },
  {
   "cell_type": "code",
   "execution_count": null,
   "id": "cb14cf6b",
   "metadata": {},
   "outputs": [],
   "source": []
  }
 ],
 "metadata": {
  "kernelspec": {
   "display_name": "datadis-python-ONeCC6i2-py3.10",
   "language": "python",
   "name": "python3"
  },
  "language_info": {
   "codemirror_mode": {
    "name": "ipython",
    "version": 3
   },
   "file_extension": ".py",
   "mimetype": "text/x-python",
   "name": "python",
   "nbconvert_exporter": "python",
   "pygments_lexer": "ipython3",
   "version": "3.10.12"
  }
 },
 "nbformat": 4,
 "nbformat_minor": 5
}
